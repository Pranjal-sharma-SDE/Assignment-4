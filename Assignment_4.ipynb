{
  "nbformat": 4,
  "nbformat_minor": 0,
  "metadata": {
    "colab": {
      "provenance": [],
      "authorship_tag": "ABX9TyMIt38FA/ivXi9WKC3+/Cs/",
      "include_colab_link": true
    },
    "kernelspec": {
      "name": "python3",
      "display_name": "Python 3"
    },
    "language_info": {
      "name": "python"
    }
  },
  "cells": [
    {
      "cell_type": "markdown",
      "metadata": {
        "id": "view-in-github",
        "colab_type": "text"
      },
      "source": [
        "<a href=\"https://colab.research.google.com/github/Pranjal-sharma-SDE/Assignment-4/blob/main/Assignment_4.ipynb\" target=\"_parent\"><img src=\"https://colab.research.google.com/assets/colab-badge.svg\" alt=\"Open In Colab\"/></a>"
      ]
    },
    {
      "cell_type": "markdown",
      "source": [
        "# Ans-2"
      ],
      "metadata": {
        "id": "70pwEgUtFulR"
      }
    },
    {
      "cell_type": "code",
      "execution_count": 1,
      "metadata": {
        "id": "PB0ZGkb-EAat"
      },
      "outputs": [],
      "source": [
        "# Ans- 2\n",
        "spam=[2, 4, 6, 8, 10]\n",
        "spam[2]='hello'\n",
        "spam"
      ]
    },
    {
      "cell_type": "code",
      "source": [],
      "metadata": {
        "id": "geyW3cdVFdN6"
      },
      "execution_count": 2,
      "outputs": []
    },
    {
      "cell_type": "markdown",
      "source": [
        "## Ans-3"
      ],
      "metadata": {
        "id": "0kxJpeGlGKab"
      }
    },
    {
      "cell_type": "code",
      "source": [
        "spam= ['a', 'b', 'c', 'd']"
      ],
      "metadata": {
        "id": "kEFM_PXOFh8m"
      },
      "execution_count": 4,
      "outputs": []
    },
    {
      "cell_type": "code",
      "source": [
        "spam[int(int('3' * 2) / 11)]"
      ],
      "metadata": {
        "colab": {
          "base_uri": "https://localhost:8080/",
          "height": 36
        },
        "id": "HPAs0h-7FizG",
        "outputId": "1184de44-53c2-40e0-d115-f6ec009ed770"
      },
      "execution_count": 5,
      "outputs": [
        {
          "output_type": "execute_result",
          "data": {
            "text/plain": [
              "'d'"
            ],
            "application/vnd.google.colaboratory.intrinsic+json": {
              "type": "string"
            }
          },
          "metadata": {},
          "execution_count": 5
        }
      ]
    },
    {
      "cell_type": "code",
      "source": [
        "spam[-1]"
      ],
      "metadata": {
        "colab": {
          "base_uri": "https://localhost:8080/",
          "height": 36
        },
        "id": "YcTFF-EJG2Ua",
        "outputId": "0e1b9069-3b76-4587-f445-74b737d26367"
      },
      "execution_count": 12,
      "outputs": [
        {
          "output_type": "execute_result",
          "data": {
            "text/plain": [
              "'d'"
            ],
            "application/vnd.google.colaboratory.intrinsic+json": {
              "type": "string"
            }
          },
          "metadata": {},
          "execution_count": 12
        }
      ]
    },
    {
      "cell_type": "code",
      "source": [
        "spam[:2]"
      ],
      "metadata": {
        "colab": {
          "base_uri": "https://localhost:8080/"
        },
        "id": "46B5jQv4GSZY",
        "outputId": "aa0a7a04-f0dc-4074-8833-892994710091"
      },
      "execution_count": 11,
      "outputs": [
        {
          "output_type": "execute_result",
          "data": {
            "text/plain": [
              "['a', 'b']"
            ]
          },
          "metadata": {},
          "execution_count": 11
        }
      ]
    },
    {
      "cell_type": "code",
      "source": [],
      "metadata": {
        "id": "zL2AAK4_GVhI"
      },
      "execution_count": null,
      "outputs": []
    },
    {
      "cell_type": "markdown",
      "source": [
        "# Ans-6"
      ],
      "metadata": {
        "id": "I951MSROHGlV"
      }
    },
    {
      "cell_type": "code",
      "source": [
        "bacon= [3.14, 'cat', 11, 'cat', True]"
      ],
      "metadata": {
        "id": "VT8kPLJAHI7w"
      },
      "execution_count": 15,
      "outputs": []
    },
    {
      "cell_type": "code",
      "source": [
        "bacon.index('cat')"
      ],
      "metadata": {
        "colab": {
          "base_uri": "https://localhost:8080/"
        },
        "id": "R-LfCxgAHKo6",
        "outputId": "f0197d74-2ca4-4096-a377-f0049fb6de57"
      },
      "execution_count": 17,
      "outputs": [
        {
          "output_type": "execute_result",
          "data": {
            "text/plain": [
              "1"
            ]
          },
          "metadata": {},
          "execution_count": 17
        }
      ]
    },
    {
      "cell_type": "code",
      "source": [
        "bacon.remove('cat')"
      ],
      "metadata": {
        "id": "8ZeEILBzHgTQ"
      },
      "execution_count": 18,
      "outputs": []
    },
    {
      "cell_type": "code",
      "source": [
        "bacon"
      ],
      "metadata": {
        "colab": {
          "base_uri": "https://localhost:8080/"
        },
        "id": "beBOA1QDIHHE",
        "outputId": "3bd1005f-bdeb-41e3-b3f6-d3f5192c9070"
      },
      "execution_count": 19,
      "outputs": [
        {
          "output_type": "execute_result",
          "data": {
            "text/plain": [
              "[3.14, 11, 'cat', True]"
            ]
          },
          "metadata": {},
          "execution_count": 19
        }
      ]
    },
    {
      "cell_type": "code",
      "source": [],
      "metadata": {
        "id": "KKh5FFjTIIUp"
      },
      "execution_count": null,
      "outputs": []
    },
    {
      "cell_type": "markdown",
      "source": [
        "# Ans- 14"
      ],
      "metadata": {
        "id": "hJef39ZAPlmq"
      }
    },
    {
      "cell_type": "code",
      "source": [
        "tuple_Int=(42,)"
      ],
      "metadata": {
        "id": "hYs5nZghPoNp"
      },
      "execution_count": 22,
      "outputs": []
    },
    {
      "cell_type": "code",
      "source": [
        "tuple_Int"
      ],
      "metadata": {
        "colab": {
          "base_uri": "https://localhost:8080/"
        },
        "id": "r17xEe4FPouo",
        "outputId": "9d07d40a-b9d1-45d2-a85d-1974be83375f"
      },
      "execution_count": 23,
      "outputs": [
        {
          "output_type": "execute_result",
          "data": {
            "text/plain": [
              "(42,)"
            ]
          },
          "metadata": {},
          "execution_count": 23
        }
      ]
    },
    {
      "cell_type": "markdown",
      "source": [],
      "metadata": {
        "id": "UZSoO7K5QPjo"
      }
    },
    {
      "cell_type": "markdown",
      "source": [
        "# Ans- 15"
      ],
      "metadata": {
        "id": "FFvTC6zrQPqS"
      }
    },
    {
      "cell_type": "code",
      "source": [
        "my_list = [1, 2, 3]\n",
        "my_tuple = tuple(my_list)\n",
        "print(my_tuple)  # Output: (1, 2, 3)"
      ],
      "metadata": {
        "colab": {
          "base_uri": "https://localhost:8080/"
        },
        "id": "0kWChSJ7Pqzt",
        "outputId": "ed65940c-c556-4087-b7a8-ea73019e7ef8"
      },
      "execution_count": 24,
      "outputs": [
        {
          "output_type": "stream",
          "name": "stdout",
          "text": [
            "(1, 2, 3)\n"
          ]
        }
      ]
    },
    {
      "cell_type": "code",
      "source": [
        "my_list=list(my_tuple)\n",
        "my_list"
      ],
      "metadata": {
        "colab": {
          "base_uri": "https://localhost:8080/"
        },
        "id": "ykfoj2oHQSxY",
        "outputId": "c9951c0e-f7b2-4a72-8498-4ee785a49053"
      },
      "execution_count": 25,
      "outputs": [
        {
          "output_type": "execute_result",
          "data": {
            "text/plain": [
              "[1, 2, 3]"
            ]
          },
          "metadata": {},
          "execution_count": 25
        }
      ]
    },
    {
      "cell_type": "code",
      "source": [],
      "metadata": {
        "id": "X0lgn_IiQxNA"
      },
      "execution_count": null,
      "outputs": []
    },
    {
      "cell_type": "markdown",
      "source": [
        "# Ans-17\n"
      ],
      "metadata": {
        "id": "szNdX5GpRiYM"
      }
    },
    {
      "cell_type": "code",
      "source": [
        "import copy\n",
        "\n",
        "original_list = [1, [2, 3]]\n",
        "shallow_copy = copy.copy(original_list)\n",
        "deep_copy = copy.deepcopy(original_list)\n",
        "\n",
        "original_list[0] = 10\n",
        "original_list[1][0] = 20\n",
        "\n",
        "print(original_list)  # Output: [10, [20, 3]]\n",
        "print(shallow_copy)  # Output: [10, [20, 3]]\n",
        "print(deep_copy)  # Output: [1, [2, 3]]\n"
      ],
      "metadata": {
        "colab": {
          "base_uri": "https://localhost:8080/"
        },
        "id": "yNTOtRD6Rtwv",
        "outputId": "ed811e0a-236b-42fb-8737-56d95d2bc8d7"
      },
      "execution_count": 26,
      "outputs": [
        {
          "output_type": "stream",
          "name": "stdout",
          "text": [
            "[10, [20, 3]]\n",
            "[1, [20, 3]]\n",
            "[1, [2, 3]]\n"
          ]
        }
      ]
    },
    {
      "cell_type": "code",
      "source": [],
      "metadata": {
        "id": "ZjNVrl1sSSdN"
      },
      "execution_count": null,
      "outputs": []
    },
    {
      "cell_type": "code",
      "source": [],
      "metadata": {
        "id": "yUijYwdvRuuO"
      },
      "execution_count": null,
      "outputs": []
    }
  ]
}